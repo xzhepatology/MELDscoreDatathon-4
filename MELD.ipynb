{
  "nbformat": 4,
  "nbformat_minor": 0,
  "metadata": {
    "colab": {
      "provenance": []
    },
    "kernelspec": {
      "name": "python3",
      "display_name": "Python 3"
    },
    "language_info": {
      "name": "python"
    }
  },
  "cells": [
    {
      "cell_type": "code",
      "execution_count": 1,
      "metadata": {
        "colab": {
          "base_uri": "https://localhost:8080/"
        },
        "id": "SruD1CtNYiwT",
        "outputId": "d175bf41-6581-410f-957c-c3b01054e5ab"
      },
      "outputs": [
        {
          "output_type": "stream",
          "name": "stdout",
          "text": [
            "Mounted at /content/drive\n"
          ]
        }
      ],
      "source": [
        "from google.colab import drive\n",
        "drive.mount('/content/drive')\n",
        "import pandas as pd\n"
      ]
    },
    {
      "cell_type": "code",
      "source": [
        "file_path = \"/content/drive/MyDrive/datathon4.csv\"\n",
        "df = pd.read_csv(file_path)"
      ],
      "metadata": {
        "id": "lCeH97xSYxYQ"
      },
      "execution_count": 2,
      "outputs": []
    },
    {
      "cell_type": "code",
      "source": [
        "print(df.shape)"
      ],
      "metadata": {
        "colab": {
          "base_uri": "https://localhost:8080/"
        },
        "id": "g88D5z9kZNS8",
        "outputId": "04afd802-aecc-4b3c-b1f4-86d093110d16"
      },
      "execution_count": 3,
      "outputs": [
        {
          "output_type": "stream",
          "name": "stdout",
          "text": [
            "(91713, 186)\n"
          ]
        }
      ]
    },
    {
      "cell_type": "code",
      "source": [
        "values = [1]\n",
        "df = df[df['hepatic_failure'].isin(values)]"
      ],
      "metadata": {
        "id": "cbOu-Ix4ZXKb"
      },
      "execution_count": 4,
      "outputs": []
    },
    {
      "cell_type": "code",
      "source": [
        "print(df.shape)"
      ],
      "metadata": {
        "colab": {
          "base_uri": "https://localhost:8080/"
        },
        "id": "02-gPFYQZrGs",
        "outputId": "af39833d-ebce-434b-9438-2ba89b7ab976"
      },
      "execution_count": 5,
      "outputs": [
        {
          "output_type": "stream",
          "name": "stdout",
          "text": [
            "(1182, 186)\n"
          ]
        }
      ]
    },
    {
      "cell_type": "code",
      "source": [
        " col = [\n",
        "    'patient_id', 'd1_creatinine_max', 'd1_inr_max', 'd1_bilirubin_max', 'hospital_death']\n",
        "df = df[col]"
      ],
      "metadata": {
        "id": "ftohhIAFaP-W"
      },
      "execution_count": 6,
      "outputs": []
    },
    {
      "cell_type": "code",
      "source": [
        "print(df.shape)"
      ],
      "metadata": {
        "colab": {
          "base_uri": "https://localhost:8080/"
        },
        "id": "-zGuq2MIaYLn",
        "outputId": "304dd3dd-7cb4-47f9-89af-8920f9af02ce"
      },
      "execution_count": 7,
      "outputs": [
        {
          "output_type": "stream",
          "name": "stdout",
          "text": [
            "(1182, 5)\n"
          ]
        }
      ]
    },
    {
      "cell_type": "code",
      "source": [
        "df.head()"
      ],
      "metadata": {
        "colab": {
          "base_uri": "https://localhost:8080/",
          "height": 204
        },
        "id": "2RsBhr0ba8g0",
        "outputId": "066dd517-3193-4f7a-cf13-76ae6cb8701a"
      },
      "execution_count": 8,
      "outputs": [
        {
          "output_type": "execute_result",
          "data": {
            "text/plain": [
              "     patient_id  d1_creatinine_max  d1_inr_max  d1_bilirubin_max  \\\n",
              "35        88655               1.10         NaN               NaN   \n",
              "49          453               0.96         1.1               0.5   \n",
              "103       67996               0.92         NaN               0.3   \n",
              "113       74973               1.03         1.4               1.8   \n",
              "138       50440               1.10         NaN               2.1   \n",
              "\n",
              "     hospital_death  \n",
              "35                0  \n",
              "49                0  \n",
              "103               0  \n",
              "113               0  \n",
              "138               0  "
            ],
            "text/html": [
              "\n",
              "  <div id=\"df-3e41f71e-3dc8-4dd2-b666-e62d8e42ba8e\" class=\"colab-df-container\">\n",
              "    <div>\n",
              "<style scoped>\n",
              "    .dataframe tbody tr th:only-of-type {\n",
              "        vertical-align: middle;\n",
              "    }\n",
              "\n",
              "    .dataframe tbody tr th {\n",
              "        vertical-align: top;\n",
              "    }\n",
              "\n",
              "    .dataframe thead th {\n",
              "        text-align: right;\n",
              "    }\n",
              "</style>\n",
              "<table border=\"1\" class=\"dataframe\">\n",
              "  <thead>\n",
              "    <tr style=\"text-align: right;\">\n",
              "      <th></th>\n",
              "      <th>patient_id</th>\n",
              "      <th>d1_creatinine_max</th>\n",
              "      <th>d1_inr_max</th>\n",
              "      <th>d1_bilirubin_max</th>\n",
              "      <th>hospital_death</th>\n",
              "    </tr>\n",
              "  </thead>\n",
              "  <tbody>\n",
              "    <tr>\n",
              "      <th>35</th>\n",
              "      <td>88655</td>\n",
              "      <td>1.10</td>\n",
              "      <td>NaN</td>\n",
              "      <td>NaN</td>\n",
              "      <td>0</td>\n",
              "    </tr>\n",
              "    <tr>\n",
              "      <th>49</th>\n",
              "      <td>453</td>\n",
              "      <td>0.96</td>\n",
              "      <td>1.1</td>\n",
              "      <td>0.5</td>\n",
              "      <td>0</td>\n",
              "    </tr>\n",
              "    <tr>\n",
              "      <th>103</th>\n",
              "      <td>67996</td>\n",
              "      <td>0.92</td>\n",
              "      <td>NaN</td>\n",
              "      <td>0.3</td>\n",
              "      <td>0</td>\n",
              "    </tr>\n",
              "    <tr>\n",
              "      <th>113</th>\n",
              "      <td>74973</td>\n",
              "      <td>1.03</td>\n",
              "      <td>1.4</td>\n",
              "      <td>1.8</td>\n",
              "      <td>0</td>\n",
              "    </tr>\n",
              "    <tr>\n",
              "      <th>138</th>\n",
              "      <td>50440</td>\n",
              "      <td>1.10</td>\n",
              "      <td>NaN</td>\n",
              "      <td>2.1</td>\n",
              "      <td>0</td>\n",
              "    </tr>\n",
              "  </tbody>\n",
              "</table>\n",
              "</div>\n",
              "    <div class=\"colab-df-buttons\">\n",
              "\n",
              "  <div class=\"colab-df-container\">\n",
              "    <button class=\"colab-df-convert\" onclick=\"convertToInteractive('df-3e41f71e-3dc8-4dd2-b666-e62d8e42ba8e')\"\n",
              "            title=\"Convert this dataframe to an interactive table.\"\n",
              "            style=\"display:none;\">\n",
              "\n",
              "  <svg xmlns=\"http://www.w3.org/2000/svg\" height=\"24px\" viewBox=\"0 -960 960 960\">\n",
              "    <path d=\"M120-120v-720h720v720H120Zm60-500h600v-160H180v160Zm220 220h160v-160H400v160Zm0 220h160v-160H400v160ZM180-400h160v-160H180v160Zm440 0h160v-160H620v160ZM180-180h160v-160H180v160Zm440 0h160v-160H620v160Z\"/>\n",
              "  </svg>\n",
              "    </button>\n",
              "\n",
              "  <style>\n",
              "    .colab-df-container {\n",
              "      display:flex;\n",
              "      gap: 12px;\n",
              "    }\n",
              "\n",
              "    .colab-df-convert {\n",
              "      background-color: #E8F0FE;\n",
              "      border: none;\n",
              "      border-radius: 50%;\n",
              "      cursor: pointer;\n",
              "      display: none;\n",
              "      fill: #1967D2;\n",
              "      height: 32px;\n",
              "      padding: 0 0 0 0;\n",
              "      width: 32px;\n",
              "    }\n",
              "\n",
              "    .colab-df-convert:hover {\n",
              "      background-color: #E2EBFA;\n",
              "      box-shadow: 0px 1px 2px rgba(60, 64, 67, 0.3), 0px 1px 3px 1px rgba(60, 64, 67, 0.15);\n",
              "      fill: #174EA6;\n",
              "    }\n",
              "\n",
              "    .colab-df-buttons div {\n",
              "      margin-bottom: 4px;\n",
              "    }\n",
              "\n",
              "    [theme=dark] .colab-df-convert {\n",
              "      background-color: #3B4455;\n",
              "      fill: #D2E3FC;\n",
              "    }\n",
              "\n",
              "    [theme=dark] .colab-df-convert:hover {\n",
              "      background-color: #434B5C;\n",
              "      box-shadow: 0px 1px 3px 1px rgba(0, 0, 0, 0.15);\n",
              "      filter: drop-shadow(0px 1px 2px rgba(0, 0, 0, 0.3));\n",
              "      fill: #FFFFFF;\n",
              "    }\n",
              "  </style>\n",
              "\n",
              "    <script>\n",
              "      const buttonEl =\n",
              "        document.querySelector('#df-3e41f71e-3dc8-4dd2-b666-e62d8e42ba8e button.colab-df-convert');\n",
              "      buttonEl.style.display =\n",
              "        google.colab.kernel.accessAllowed ? 'block' : 'none';\n",
              "\n",
              "      async function convertToInteractive(key) {\n",
              "        const element = document.querySelector('#df-3e41f71e-3dc8-4dd2-b666-e62d8e42ba8e');\n",
              "        const dataTable =\n",
              "          await google.colab.kernel.invokeFunction('convertToInteractive',\n",
              "                                                    [key], {});\n",
              "        if (!dataTable) return;\n",
              "\n",
              "        const docLinkHtml = 'Like what you see? Visit the ' +\n",
              "          '<a target=\"_blank\" href=https://colab.research.google.com/notebooks/data_table.ipynb>data table notebook</a>'\n",
              "          + ' to learn more about interactive tables.';\n",
              "        element.innerHTML = '';\n",
              "        dataTable['output_type'] = 'display_data';\n",
              "        await google.colab.output.renderOutput(dataTable, element);\n",
              "        const docLink = document.createElement('div');\n",
              "        docLink.innerHTML = docLinkHtml;\n",
              "        element.appendChild(docLink);\n",
              "      }\n",
              "    </script>\n",
              "  </div>\n",
              "\n",
              "\n",
              "<div id=\"df-462fc871-ccd4-4ba5-aa9a-398454c5f4cb\">\n",
              "  <button class=\"colab-df-quickchart\" onclick=\"quickchart('df-462fc871-ccd4-4ba5-aa9a-398454c5f4cb')\"\n",
              "            title=\"Suggest charts\"\n",
              "            style=\"display:none;\">\n",
              "\n",
              "<svg xmlns=\"http://www.w3.org/2000/svg\" height=\"24px\"viewBox=\"0 0 24 24\"\n",
              "     width=\"24px\">\n",
              "    <g>\n",
              "        <path d=\"M19 3H5c-1.1 0-2 .9-2 2v14c0 1.1.9 2 2 2h14c1.1 0 2-.9 2-2V5c0-1.1-.9-2-2-2zM9 17H7v-7h2v7zm4 0h-2V7h2v10zm4 0h-2v-4h2v4z\"/>\n",
              "    </g>\n",
              "</svg>\n",
              "  </button>\n",
              "\n",
              "<style>\n",
              "  .colab-df-quickchart {\n",
              "      --bg-color: #E8F0FE;\n",
              "      --fill-color: #1967D2;\n",
              "      --hover-bg-color: #E2EBFA;\n",
              "      --hover-fill-color: #174EA6;\n",
              "      --disabled-fill-color: #AAA;\n",
              "      --disabled-bg-color: #DDD;\n",
              "  }\n",
              "\n",
              "  [theme=dark] .colab-df-quickchart {\n",
              "      --bg-color: #3B4455;\n",
              "      --fill-color: #D2E3FC;\n",
              "      --hover-bg-color: #434B5C;\n",
              "      --hover-fill-color: #FFFFFF;\n",
              "      --disabled-bg-color: #3B4455;\n",
              "      --disabled-fill-color: #666;\n",
              "  }\n",
              "\n",
              "  .colab-df-quickchart {\n",
              "    background-color: var(--bg-color);\n",
              "    border: none;\n",
              "    border-radius: 50%;\n",
              "    cursor: pointer;\n",
              "    display: none;\n",
              "    fill: var(--fill-color);\n",
              "    height: 32px;\n",
              "    padding: 0;\n",
              "    width: 32px;\n",
              "  }\n",
              "\n",
              "  .colab-df-quickchart:hover {\n",
              "    background-color: var(--hover-bg-color);\n",
              "    box-shadow: 0 1px 2px rgba(60, 64, 67, 0.3), 0 1px 3px 1px rgba(60, 64, 67, 0.15);\n",
              "    fill: var(--button-hover-fill-color);\n",
              "  }\n",
              "\n",
              "  .colab-df-quickchart-complete:disabled,\n",
              "  .colab-df-quickchart-complete:disabled:hover {\n",
              "    background-color: var(--disabled-bg-color);\n",
              "    fill: var(--disabled-fill-color);\n",
              "    box-shadow: none;\n",
              "  }\n",
              "\n",
              "  .colab-df-spinner {\n",
              "    border: 2px solid var(--fill-color);\n",
              "    border-color: transparent;\n",
              "    border-bottom-color: var(--fill-color);\n",
              "    animation:\n",
              "      spin 1s steps(1) infinite;\n",
              "  }\n",
              "\n",
              "  @keyframes spin {\n",
              "    0% {\n",
              "      border-color: transparent;\n",
              "      border-bottom-color: var(--fill-color);\n",
              "      border-left-color: var(--fill-color);\n",
              "    }\n",
              "    20% {\n",
              "      border-color: transparent;\n",
              "      border-left-color: var(--fill-color);\n",
              "      border-top-color: var(--fill-color);\n",
              "    }\n",
              "    30% {\n",
              "      border-color: transparent;\n",
              "      border-left-color: var(--fill-color);\n",
              "      border-top-color: var(--fill-color);\n",
              "      border-right-color: var(--fill-color);\n",
              "    }\n",
              "    40% {\n",
              "      border-color: transparent;\n",
              "      border-right-color: var(--fill-color);\n",
              "      border-top-color: var(--fill-color);\n",
              "    }\n",
              "    60% {\n",
              "      border-color: transparent;\n",
              "      border-right-color: var(--fill-color);\n",
              "    }\n",
              "    80% {\n",
              "      border-color: transparent;\n",
              "      border-right-color: var(--fill-color);\n",
              "      border-bottom-color: var(--fill-color);\n",
              "    }\n",
              "    90% {\n",
              "      border-color: transparent;\n",
              "      border-bottom-color: var(--fill-color);\n",
              "    }\n",
              "  }\n",
              "</style>\n",
              "\n",
              "  <script>\n",
              "    async function quickchart(key) {\n",
              "      const quickchartButtonEl =\n",
              "        document.querySelector('#' + key + ' button');\n",
              "      quickchartButtonEl.disabled = true;  // To prevent multiple clicks.\n",
              "      quickchartButtonEl.classList.add('colab-df-spinner');\n",
              "      try {\n",
              "        const charts = await google.colab.kernel.invokeFunction(\n",
              "            'suggestCharts', [key], {});\n",
              "      } catch (error) {\n",
              "        console.error('Error during call to suggestCharts:', error);\n",
              "      }\n",
              "      quickchartButtonEl.classList.remove('colab-df-spinner');\n",
              "      quickchartButtonEl.classList.add('colab-df-quickchart-complete');\n",
              "    }\n",
              "    (() => {\n",
              "      let quickchartButtonEl =\n",
              "        document.querySelector('#df-462fc871-ccd4-4ba5-aa9a-398454c5f4cb button');\n",
              "      quickchartButtonEl.style.display =\n",
              "        google.colab.kernel.accessAllowed ? 'block' : 'none';\n",
              "    })();\n",
              "  </script>\n",
              "</div>\n",
              "    </div>\n",
              "  </div>\n"
            ]
          },
          "metadata": {},
          "execution_count": 8
        }
      ]
    },
    {
      "cell_type": "code",
      "source": [
        "missing_values = df.isnull().sum()\n",
        "print(missing_values)"
      ],
      "metadata": {
        "colab": {
          "base_uri": "https://localhost:8080/"
        },
        "id": "60ES9ZerbIdv",
        "outputId": "c387b035-21e6-45aa-ab98-5dfbd433ebb9"
      },
      "execution_count": 9,
      "outputs": [
        {
          "output_type": "stream",
          "name": "stdout",
          "text": [
            "patient_id             0\n",
            "d1_creatinine_max     82\n",
            "d1_inr_max           472\n",
            "d1_bilirubin_max     383\n",
            "hospital_death         0\n",
            "dtype: int64\n"
          ]
        }
      ]
    },
    {
      "cell_type": "code",
      "source": [
        "df_cleaned = df.dropna()\n",
        "print(df_cleaned)"
      ],
      "metadata": {
        "colab": {
          "base_uri": "https://localhost:8080/"
        },
        "id": "eYTsShpmz6Ks",
        "outputId": "7980226e-aced-4520-b3c4-82b6c770f0c4"
      },
      "execution_count": 10,
      "outputs": [
        {
          "output_type": "stream",
          "name": "stdout",
          "text": [
            "       patient_id  d1_creatinine_max  d1_inr_max  d1_bilirubin_max  \\\n",
            "49            453               0.96         1.1               0.5   \n",
            "113         74973               1.03         1.4               1.8   \n",
            "166        126497               4.05         1.7               4.4   \n",
            "219         50738               1.50         1.3               1.4   \n",
            "380         37528               1.49         1.5               3.2   \n",
            "...           ...                ...         ...               ...   \n",
            "90803       60919               0.89         1.1               0.6   \n",
            "90902       97583               0.60         1.3               3.0   \n",
            "90908       39296               4.50         3.0              17.3   \n",
            "90962      119709               7.00         2.0               0.7   \n",
            "91654      126853               0.40         1.7               2.4   \n",
            "\n",
            "       hospital_death  \n",
            "49                  0  \n",
            "113                 0  \n",
            "166                 0  \n",
            "219                 0  \n",
            "380                 0  \n",
            "...               ...  \n",
            "90803               0  \n",
            "90902               0  \n",
            "90908               0  \n",
            "90962               0  \n",
            "91654               0  \n",
            "\n",
            "[562 rows x 5 columns]\n"
          ]
        }
      ]
    },
    {
      "cell_type": "code",
      "source": [
        "description = df_cleaned.describe()\n",
        "print(description)"
      ],
      "metadata": {
        "colab": {
          "base_uri": "https://localhost:8080/"
        },
        "id": "drHhSEUB9OhM",
        "outputId": "3bf227dd-4e6b-4837-a44e-6f798cac80ec"
      },
      "execution_count": 11,
      "outputs": [
        {
          "output_type": "stream",
          "name": "stdout",
          "text": [
            "          patient_id  d1_creatinine_max  d1_inr_max  d1_bilirubin_max  \\\n",
            "count     562.000000         562.000000  562.000000        562.000000   \n",
            "mean    66715.185053           1.906671    2.109082          6.061762   \n",
            "std     37609.907900           1.535341    1.064504          7.517492   \n",
            "min       170.000000           0.340000    0.900000          0.200000   \n",
            "25%     34423.500000           0.900000    1.400000          1.400000   \n",
            "50%     67596.500000           1.355000    1.800000          3.400000   \n",
            "75%     98608.750000           2.407500    2.425000          7.175000   \n",
            "max    130350.000000          10.250000    7.756000         44.800000   \n",
            "\n",
            "       hospital_death  \n",
            "count      562.000000  \n",
            "mean         0.229537  \n",
            "std          0.420910  \n",
            "min          0.000000  \n",
            "25%          0.000000  \n",
            "50%          0.000000  \n",
            "75%          0.000000  \n",
            "max          1.000000  \n"
          ]
        }
      ]
    },
    {
      "cell_type": "code",
      "source": [
        "import pandas as pd\n",
        "import numpy as np\n",
        "import matplotlib.pyplot as plt\n",
        "\n",
        "# Define the function to calculate the MELD score, cap it at 40, and round to the nearest whole number\n",
        "def calculate_meld(row):\n",
        "    meld_score = 3.78 * np.log(max(row['d1_bilirubin_max'], 1)) + \\\n",
        "                 11.2 * np.log(max(row['d1_inr_max'], 1)) + \\\n",
        "                 9.57 * np.log(max(row['d1_creatinine_max'], 1)) + 6.43\n",
        "    meld_score_capped = min(meld_score, 40)\n",
        "    return round(meld_score_capped)\n",
        "\n",
        "df_cleaned['MELD'] = df_cleaned.apply(calculate_meld, axis=1)\n",
        "\n",
        "# Descriptive statistics\n",
        "meld_descriptive_stats = df_cleaned['MELD'].describe()\n",
        "\n",
        "# Distribution plot\n",
        "plt.figure(figsize=(10, 5))\n",
        "df_cleaned['MELD'].hist(bins=range(int(df_cleaned['MELD'].min()), int(df_cleaned['MELD'].max()) + 2), edgecolor='black')\n",
        "plt.xticks(range(int(df_cleaned['MELD'].min()), int(df_cleaned['MELD'].max()) + 2))\n",
        "plt.title('Distribution of MELD Scores')\n",
        "plt.xlabel('MELD Score')\n",
        "plt.ylabel('Frequency')\n",
        "plt.grid(False)\n",
        "plt.show()\n",
        "\n",
        "\n",
        "print(\"Descriptive Statistics for MELD Score:\\n\", meld_descriptive_stats)"
      ],
      "metadata": {
        "colab": {
          "base_uri": "https://localhost:8080/",
          "height": 759
        },
        "id": "s7MT_P-sAd1y",
        "outputId": "70b7a4b6-7661-4772-c319-bfa049653dd3"
      },
      "execution_count": 12,
      "outputs": [
        {
          "output_type": "stream",
          "name": "stderr",
          "text": [
            "<ipython-input-12-1c3aebbfbc52>:13: SettingWithCopyWarning: \n",
            "A value is trying to be set on a copy of a slice from a DataFrame.\n",
            "Try using .loc[row_indexer,col_indexer] = value instead\n",
            "\n",
            "See the caveats in the documentation: https://pandas.pydata.org/pandas-docs/stable/user_guide/indexing.html#returning-a-view-versus-a-copy\n",
            "  df_cleaned['MELD'] = df_cleaned.apply(calculate_meld, axis=1)\n"
          ]
        },
        {
          "output_type": "display_data",
          "data": {
            "text/plain": [
              "<Figure size 1000x500 with 1 Axes>"
            ],
            "image/png": "[encoded data removed]"
          },
          "metadata": {}
        },
        {
          "output_type": "stream",
          "name": "stdout",
          "text": [
            "Descriptive Statistics for MELD Score:\n",
            " count    562.000000\n",
            "mean      23.023132\n",
            "std        9.547769\n",
            "min        6.000000\n",
            "25%       15.000000\n",
            "50%       22.000000\n",
            "75%       30.000000\n",
            "max       40.000000\n",
            "Name: MELD, dtype: float64\n"
          ]
        }
      ]
    },
    {
      "cell_type": "code",
      "source": [
        "import pandas as pd\n",
        "from sklearn.linear_model import LogisticRegression\n",
        "from sklearn.model_selection import train_test_split\n",
        "from sklearn.metrics import classification_report, confusion_matrix\n",
        "\n",
        "X = df_cleaned[['MELD']]  # Predictor\n",
        "y = df_cleaned['hospital_death']  # Outcome\n",
        "X_train, X_test, y_train, y_test = train_test_split(X, y, test_size=0.2, random_state=42)\n",
        "log_reg = LogisticRegression()\n",
        "log_reg.fit(X_train, y_train)\n",
        "y_pred = log_reg.predict(X_test)\n",
        "print(classification_report(y_test, y_pred))\n",
        "print(confusion_matrix(y_test, y_pred))\n",
        "print(\"Coefficient for MELD score:\", log_reg.coef_)\n",
        "print(\"Intercept:\", log_reg.intercept_)\n"
      ],
      "metadata": {
        "colab": {
          "base_uri": "https://localhost:8080/"
        },
        "id": "4kHEf1KPB6lv",
        "outputId": "838d5a84-a653-45f7-b33b-451c054f6a01"
      },
      "execution_count": 13,
      "outputs": [
        {
          "output_type": "stream",
          "name": "stdout",
          "text": [
            "              precision    recall  f1-score   support\n",
            "\n",
            "           0       0.83      0.92      0.87        85\n",
            "           1       0.63      0.43      0.51        28\n",
            "\n",
            "    accuracy                           0.80       113\n",
            "   macro avg       0.73      0.67      0.69       113\n",
            "weighted avg       0.78      0.80      0.78       113\n",
            "\n",
            "[[78  7]\n",
            " [16 12]]\n",
            "Coefficient for MELD score: [[0.11810944]]\n",
            "Intercept: [-4.24935262]\n"
          ]
        }
      ]
    },
    {
      "cell_type": "code",
      "source": [
        "import seaborn as sns\n",
        "import matplotlib.pyplot as plt\n",
        "\n",
        "conf_mat = confusion_matrix(y_test, y_pred)\n",
        "\n",
        "sns.heatmap(conf_mat, annot=True, fmt='d')\n",
        "plt.ylabel('Actual')\n",
        "plt.xlabel('Predicted')\n",
        "plt.show()\n"
      ],
      "metadata": {
        "colab": {
          "base_uri": "https://localhost:8080/",
          "height": 449
        },
        "id": "baF5elOkKtj1",
        "outputId": "bb35b4b4-aa7a-4da3-ba67-5db3aa3d3d60"
      },
      "execution_count": 14,
      "outputs": [
        {
          "output_type": "display_data",
          "data": {
            "text/plain": [
              "<Figure size 640x480 with 2 Axes>"
            ],
            "image/png": "[encoded data removed]"
          },
          "metadata": {}
        }
      ]
    }
  ]
}